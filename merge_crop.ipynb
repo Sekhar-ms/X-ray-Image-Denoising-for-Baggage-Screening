{
 "cells": [
  {
   "cell_type": "code",
   "execution_count": 3,
   "id": "4b9d1eee",
   "metadata": {},
   "outputs": [
    {
     "name": "stdout",
     "output_type": "stream",
     "text": [
      "C:\\Users\\ML08\\Desktop\\CONVENTIONAL\\New folder\\original\\P01X010-2022111700190.dump_low.png\n"
     ]
    }
   ],
   "source": [
    "import cv2\n",
    "import os\n",
    "import numpy as np\n",
    "\n",
    "def main(img1_path, img2_path, img3_path, img4_path, org_img_path, img_save_path):\n",
    "    \n",
    "    img1_files = [os.path.join(img1_path, img) for img in os.listdir(img1_path)]\n",
    "    img2_files = [os.path.join(img2_path, img) for img in os.listdir(img2_path)] \n",
    "    img3_files = [os.path.join(img3_path, img) for img in os.listdir(img3_path)] \n",
    "    img4_files = [os.path.join(img4_path, img) for img in os.listdir(img4_path)] \n",
    "    img_org_files = [os.path.join(org_img_path, img) for img in os.listdir(org_img_path)]    \n",
    "\n",
    "    for im1, im2, im3, im4, img_org in zip(img1_files, img2_files, img3_files, img4_files, img_org_files):\n",
    "        im1 = cv2.imread(im1, -1) #top_left\n",
    "        im2 = cv2.imread(im2, -1) #top_right\n",
    "        im3 = cv2.imread(im3, -1) #bottom_left\n",
    "        im4 = cv2.imread(im4, -1) #bottom_right\n",
    "        \n",
    "        print(img_org)\n",
    "\n",
    "        im_org = cv2.imread(img_org, -1)\n",
    "        original_height, original_width = im_org.shape[:2]\n",
    "        \n",
    "        # Recombine the four split images into a single 1024x1024 image\n",
    "        top_row = np.hstack((im1, im2))\n",
    "        bottom_row = np.hstack((im3, im4))\n",
    "        recombined_image = np.vstack((top_row, bottom_row))\n",
    "\n",
    "        # Convert the recombined image to 16-bit grayscale\n",
    "        recombined_image = np.uint16(recombined_image)\n",
    "\n",
    "        # Crop out the mirror padded part to obtain the original 512x512 image\n",
    "        cropped_image = recombined_image[0:original_height, 0:original_width]\n",
    "        if original_width>512:\n",
    "        # Extract the 511th and 513th columns\n",
    "            col_511 = cropped_image[:, 511]\n",
    "            col_513 = cropped_image[:, 513]\n",
    "            # Calculate the average of the two columns\n",
    "            avg_col = (col_511/2) + (col_513/2)\n",
    "            cropped_image[:, 512] = avg_col\n",
    "            #cropped_image[:, :12] = 65535\n",
    "            #cropped_image[:, -40:] = 65535\n",
    "            #cropped_image[643:648, :] = 65535\n",
    "\n",
    "            # Remove the 512th column\n",
    "            #cropped_image = np.delete(cropped_image, 512, axis=1)\n",
    "\n",
    "            # Resize the image to its original size\n",
    "            #resized_image = cv2.resize(cropped_image, (original_width, original_height))\n",
    "        else:\n",
    "            cropped_image = recombined_image[0:original_height, 0:original_width]\n",
    "            \n",
    "\n",
    "        \n",
    "        # Filenmae creatyion\n",
    "        head, tail = os.path.split(img_org)\n",
    "        img_name, ext = os.path.splitext(tail)\n",
    "        img_name2, temp = os.path.splitext(img_name)\n",
    "        temp = temp[5:]   \n",
    "        \n",
    "        cv2.imwrite(os.path.join(img_save_path, img_name2 + temp + '_final' + ext), cropped_image)\n",
    "\n",
    "        \n",
    "# ======================================================================================\n",
    "img1_path = r'C:\\Users\\ML08\\Desktop\\CONVENTIONAL\\New folder\\top_left'# Replace with the actual path to your top left images folder\n",
    "img2_path = r'C:\\Users\\ML08\\Desktop\\CONVENTIONAL\\New folder\\top_right' # Replace with the actual path to your top right images folder\n",
    "img3_path = r'C:\\Users\\ML08\\Desktop\\CONVENTIONAL\\New folder\\bottom_left' # Replace with the actual path to your bottom left images folder\n",
    "img4_path = r'C:\\Users\\ML08\\Desktop\\CONVENTIONAL\\New folder\\bottom_right' # Replace with the actual path to your bottom right images folder\n",
    "#=======================================================================================\n",
    "org_img_path = r'C:\\Users\\ML08\\Desktop\\CONVENTIONAL\\New folder\\original' # Replace with the actual path to your input images folder\n",
    "img_save_path = r'D:\\Downloads\\bm3d_matlab_package_3.0.9\\bm3d_matlab_package'\n",
    "    \n",
    "main(img1_path, img2_path, img3_path, img4_path, org_img_path, img_save_path)"
   ]
  },
  {
   "cell_type": "code",
   "execution_count": null,
   "id": "774046c6",
   "metadata": {},
   "outputs": [],
   "source": []
  }
 ],
 "metadata": {
  "kernelspec": {
   "display_name": "Python 3 (ipykernel)",
   "language": "python",
   "name": "python3"
  },
  "language_info": {
   "codemirror_mode": {
    "name": "ipython",
    "version": 3
   },
   "file_extension": ".py",
   "mimetype": "text/x-python",
   "name": "python",
   "nbconvert_exporter": "python",
   "pygments_lexer": "ipython3",
   "version": "3.9.12"
  }
 },
 "nbformat": 4,
 "nbformat_minor": 5
}
