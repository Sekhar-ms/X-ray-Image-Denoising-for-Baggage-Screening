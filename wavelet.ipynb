{
 "cells": [
  {
   "cell_type": "markdown",
   "id": "887b9091",
   "metadata": {},
   "source": [
    "For executing the wavelet based fusion on 16-bit images.\n",
    "Fisrt split 16-bit image into two 8-bit images.\n",
    "So, for each energy image there will be two 8-bit images. So, do the image using corresponding images."
   ]
  },
  {
   "cell_type": "code",
   "execution_count": 25,
   "id": "0725d9d5",
   "metadata": {},
   "outputs": [
    {
     "data": {
      "text/plain": [
       "True"
      ]
     },
     "execution_count": 25,
     "metadata": {},
     "output_type": "execute_result"
    }
   ],
   "source": [
    "import cv2\n",
    "import numpy as np\n",
    "\n",
    "img_16 = cv2.imread(r'D:\\Downloads\\Bag_dumps-20230428T040901Z-001\\Bag_dumps\\Dumps\\denoised\\final\\P01X010-2022111700190_low_final.png', -1)\n",
    "\n",
    "img_8_1 = (img_16 >> 8).astype(np.uint8)\n",
    "img_8_2 = (img_16 & 0xFF).astype(np.uint8)\n",
    "\n",
    "cv2.imwrite('output_image1.png', img_8_1)\n",
    "cv2.imwrite('output_image2.png', img_8_2)\n"
   ]
  },
  {
   "cell_type": "markdown",
   "id": "8d4dcdc5",
   "metadata": {},
   "source": [
    "Now apply wavelet fusion"
   ]
  },
  {
   "cell_type": "code",
   "execution_count": 10,
   "id": "4dd63de1",
   "metadata": {},
   "outputs": [],
   "source": [
    "import pywt\n",
    "import cv2\n",
    "import numpy as np\n",
    "from matplotlib import pyplot as plt\n",
    "\n",
    "# Load the low energy and high energy images\n",
    "lowE_img = cv2.imread(r'D:\\Downloads\\Bag_dumps-20230428T040901Z-001\\Bag_dumps\\Dumps\\denoised\\final\\P01X010-2022111700190_low_final.png', 0)\n",
    "highE_img = cv2.imread(r'D:\\Downloads\\Bag_dumps-20230428T040901Z-001\\Bag_dumps\\Dumps\\denoised\\final\\P01X010-2022111700190_high_final.png', 0)\n",
    "\n",
    "# Define wavelet function\n",
    "wavelet = 'db4'\n",
    "\n",
    "# Perform 2D discrete wavelet transform on low energy image\n",
    "lowE_coeffs = pywt.wavedec2(lowE_img, wavelet, level=4)\n",
    "# Unpack coefficients\n",
    "LcA4, (LcH4, LcV4, LcD4), (LcH3, LcV3, LcD3), (LcH2, LcV2, LcD2), (LcH1, LcV1, LcD1) = lowE_coeffs\n",
    "\n",
    "\n",
    "# Perform 2D discrete wavelet transform on high energy image\n",
    "highE_coeffs = pywt.wavedec2(highE_img, wavelet, level=4)\n",
    "# Unpack coefficients\n",
    "HcA4, (HcH4, HcV4, HcD4), (HcH3, HcV3, HcD3), (HcH2, HcV2, HcD2), (HcH1, HcV1, HcD1) = highE_coeffs"
   ]
  },
  {
   "cell_type": "code",
   "execution_count": 11,
   "id": "03d63a0d",
   "metadata": {},
   "outputs": [],
   "source": [
    "# Apply a low-pass filter to the approximation coefficients of low energy image\n",
    "kernel = np.array([\n",
    "    [0.077847, 0.123317, 0.077847],\n",
    "    [0.123317, 0.195346, 0.123317],\n",
    "    [0.077847, 0.123317, 0.077847]])\n",
    "\n",
    "lowE_A_coeffs_filtered = cv2.filter2D(LcA4, -1, kernel)\n",
    "\n",
    "# Apply a low-pass filter to the approximation coefficients of high energy image\n",
    "highE_A_coeffs_filtered = cv2.filter2D(HcA4, -1, kernel)"
   ]
  },
  {
   "cell_type": "code",
   "execution_count": 12,
   "id": "50084086",
   "metadata": {},
   "outputs": [],
   "source": [
    "fused_A_coeffs = (lowE_A_coeffs_filtered/2) + (highE_A_coeffs_filtered/2)\n",
    "#fused_A_coeffs = (lowE_A_coeffs_filtered + highE_A_coeffs_filtered)/2"
   ]
  },
  {
   "cell_type": "code",
   "execution_count": 13,
   "id": "31f1b5b2",
   "metadata": {},
   "outputs": [],
   "source": [
    "# Add low energy and high energy detail coefficients together\n",
    "new_detail_coeffs = [(LcH4 + HcH4, LcV4 + HcV4, LcD4 + HcD4),\n",
    "                     (LcH3 + HcH3, LcV3 + HcV3, LcD3 + HcD3),\n",
    "                     (LcH2 + HcH2, LcV2 + HcV2, LcD2 + HcD2),\n",
    "                     (LcH1 + HcH1, LcV1 + HcV1, LcD1 + HcD1)]"
   ]
  },
  {
   "cell_type": "code",
   "execution_count": 16,
   "id": "6d685164",
   "metadata": {},
   "outputs": [
    {
     "data": {
      "text/plain": [
       "True"
      ]
     },
     "execution_count": 16,
     "metadata": {},
     "output_type": "execute_result"
    }
   ],
   "source": [
    "# Reconstruct the new image from the modified coefficients\n",
    "new_img = pywt.waverec2([fused_A_coeffs, *new_detail_coeffs], wavelet)\n",
    "\n",
    "# Save the new image\n",
    "cv2.imwrite('output.png', new_img)"
   ]
  },
  {
   "cell_type": "markdown",
   "id": "740af06f",
   "metadata": {},
   "source": [
    "This is the code to combine 8-bit images to form 16-bit images"
   ]
  },
  {
   "cell_type": "code",
   "execution_count": 1,
   "id": "114b9d8c",
   "metadata": {},
   "outputs": [
    {
     "data": {
      "text/plain": [
       "True"
      ]
     },
     "execution_count": 1,
     "metadata": {},
     "output_type": "execute_result"
    }
   ],
   "source": [
    "import cv2\n",
    "import numpy as np\n",
    "\n",
    "img_8_1 = cv2.imread(r\"C:\\Users\\ML08\\Desktop\\CONVENTIONAL\\Poisson\\denoised_image_ML.png\", cv2.IMREAD_GRAYSCALE)\n",
    "img_8_2 = cv2.imread(r\"C:\\Users\\ML08\\Desktop\\CONVENTIONAL\\Poisson\\denoised_image_LL.png\", cv2.IMREAD_GRAYSCALE)\n",
    "\n",
    "img_16_1 = img_8_1.astype(np.uint16) << 8\n",
    "img_16_2 = img_8_2.astype(np.uint16)\n",
    "\n",
    "img_16 = img_16_1 | img_16_2\n",
    "\n",
    "cv2.imwrite('output_image.png', img_16)\n"
   ]
  },
  {
   "cell_type": "code",
   "execution_count": null,
   "id": "c0ed37a0",
   "metadata": {},
   "outputs": [],
   "source": []
  }
 ],
 "metadata": {
  "kernelspec": {
   "display_name": "Python 3 (ipykernel)",
   "language": "python",
   "name": "python3"
  },
  "language_info": {
   "codemirror_mode": {
    "name": "ipython",
    "version": 3
   },
   "file_extension": ".py",
   "mimetype": "text/x-python",
   "name": "python",
   "nbconvert_exporter": "python",
   "pygments_lexer": "ipython3",
   "version": "3.9.12"
  }
 },
 "nbformat": 4,
 "nbformat_minor": 5
}
